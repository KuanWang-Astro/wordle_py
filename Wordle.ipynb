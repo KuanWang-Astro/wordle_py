{
 "cells": [
  {
   "cell_type": "code",
   "execution_count": 37,
   "metadata": {},
   "outputs": [
    {
     "name": "stdout",
     "output_type": "stream",
     "text": [
      "Populating the interactive namespace from numpy and matplotlib\n"
     ]
    }
   ],
   "source": [
    "%pylab inline\n",
    "%config InlineBackend.figure_format='retina'"
   ]
  },
  {
   "cell_type": "code",
   "execution_count": 5,
   "metadata": {},
   "outputs": [],
   "source": [
    "from nltk.corpus import words\n",
    "word_list = words.words()\n",
    "from termcolor import colored"
   ]
  },
  {
   "cell_type": "code",
   "execution_count": 14,
   "metadata": {
    "collapsed": true
   },
   "outputs": [],
   "source": [
    "from wordfreq import word_frequency"
   ]
  },
  {
   "cell_type": "code",
   "execution_count": 23,
   "metadata": {
    "collapsed": true
   },
   "outputs": [],
   "source": [
    "w5_list = [word for word in word_list if len(word) == 5 and word[0].islower()]"
   ]
  },
  {
   "cell_type": "code",
   "execution_count": 38,
   "metadata": {},
   "outputs": [
    {
     "data": {
      "text/plain": [
       "Text(0, 0.5, 'number of words')"
      ]
     },
     "execution_count": 38,
     "metadata": {},
     "output_type": "execute_result"
    },
    {
     "data": {
      "image/png": "[encoded data removed]",
      "text/plain": [
       "<Figure size 432x288 with 1 Axes>"
      ]
     },
     "metadata": {
      "image/png": {
       "height": 265,
       "width": 390
      }
     },
     "output_type": "display_data"
    }
   ],
   "source": [
    "plt.hist(np.array([word_frequency(word, 'en', wordlist='large') for word in w5_list]), \n",
    "         np.logspace(-8, -2, 61),histtype = u'step');\n",
    "plt.semilogx()\n",
    "plt.xlabel('word frequency')\n",
    "plt.ylabel('number of words')"
   ]
  },
  {
   "cell_type": "code",
   "execution_count": 28,
   "metadata": {
    "collapsed": true
   },
   "outputs": [],
   "source": [
    "w5_list_target = [word for word in w5_list if word_frequency(word, 'en', wordlist='small') > 0]"
   ]
  },
  {
   "cell_type": "code",
   "execution_count": 51,
   "metadata": {
    "collapsed": true
   },
   "outputs": [],
   "source": [
    "def target():\n",
    "    return np.random.choice(w5_list_target)"
   ]
  },
  {
   "cell_type": "code",
   "execution_count": 98,
   "metadata": {
    "collapsed": true
   },
   "outputs": [],
   "source": [
    "def check_guess(guess, truth):\n",
    "    if len(guess) != 5:\n",
    "        print('Wrong length of word!')\n",
    "        return -1\n",
    "    if not guess in w5_list:\n",
    "        print('Not a word!')\n",
    "        return -1\n",
    "    if guess == truth:\n",
    "        print(colored(guess, 'green'))\n",
    "        print('Congrats!')\n",
    "        return 1\n",
    "    prt = ''\n",
    "    for i in range(5):\n",
    "        if guess[i] == truth[i]:\n",
    "            prt += colored(guess[i], 'green')\n",
    "        elif guess[i] in truth:\n",
    "            prt += colored(guess[i], 'yellow')\n",
    "        else:\n",
    "            prt += colored(guess[i], 'grey')\n",
    "    print(prt)\n",
    "    return 0"
   ]
  },
  {
   "cell_type": "code",
   "execution_count": 99,
   "metadata": {
    "collapsed": true
   },
   "outputs": [],
   "source": [
    "def game():\n",
    "    truth = target()\n",
    "    cnt = 0\n",
    "    guess = input()\n",
    "    while cnt <= 5:\n",
    "        result = check_guess(guess, truth)\n",
    "        if result == 1:\n",
    "            break\n",
    "        elif result == -1:\n",
    "            guess = input()\n",
    "        else:\n",
    "            cnt += 1\n",
    "            guess = input()\n",
    "    return truth"
   ]
  },
  {
   "cell_type": "code",
   "execution_count": 100,
   "metadata": {},
   "outputs": [
    {
     "name": "stdout",
     "output_type": "stream",
     "text": [
      "hurry\n",
      "\u001b[30mh\u001b[0m\u001b[33mu\u001b[0m\u001b[30mr\u001b[0m\u001b[30mr\u001b[0m\u001b[30my\u001b[0m\n",
      "flute\n",
      "\u001b[30mf\u001b[0m\u001b[32ml\u001b[0m\u001b[33mu\u001b[0m\u001b[30mt\u001b[0m\u001b[30me\u001b[0m\n",
      "cloud\n",
      "\u001b[30mc\u001b[0m\u001b[32ml\u001b[0m\u001b[32mo\u001b[0m\u001b[32mu\u001b[0m\u001b[32md\u001b[0m\n",
      "ploud\n",
      "Not a word!\n",
      "aloud\n",
      "\u001b[32maloud\u001b[0m\n",
      "Congrats!\n"
     ]
    },
    {
     "data": {
      "text/plain": [
       "'aloud'"
      ]
     },
     "execution_count": 100,
     "metadata": {},
     "output_type": "execute_result"
    }
   ],
   "source": [
    "game()"
   ]
  },
  {
   "cell_type": "code",
   "execution_count": null,
   "metadata": {
    "collapsed": true
   },
   "outputs": [],
   "source": [
    "def update_keyboard():\n",
    "    "
   ]
  },
  {
   "cell_type": "code",
   "execution_count": null,
   "metadata": {
    "collapsed": true
   },
   "outputs": [],
   "source": []
  }
 ],
 "metadata": {
  "kernelspec": {
   "display_name": "Python 3",
   "language": "python",
   "name": "python3"
  }
 },
 "nbformat": 4,
 "nbformat_minor": 2
}
