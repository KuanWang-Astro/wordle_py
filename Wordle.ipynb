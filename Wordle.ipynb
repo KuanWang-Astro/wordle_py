{
 "cells": [
  {
   "cell_type": "code",
   "execution_count": 1,
   "metadata": {},
   "outputs": [],
   "source": [
    "import numpy as np\n",
    "from nltk.corpus import words\n",
    "from termcolor import colored\n",
    "from wordfreq import word_frequency"
   ]
  },
  {
   "cell_type": "code",
   "execution_count": 2,
   "metadata": {
    "collapsed": true
   },
   "outputs": [],
   "source": [
    "word_list = words.words()\n",
    "w5_list = [word for word in word_list if len(word) == 5 and word[0].islower()]\n",
    "w5_list_target = [word for word in w5_list if word_frequency(word, 'en', wordlist='small') > 0]"
   ]
  },
  {
   "cell_type": "code",
   "execution_count": 3,
   "metadata": {
    "collapsed": true
   },
   "outputs": [],
   "source": [
    "def target():\n",
    "    return np.random.choice(w5_list_target)\n",
    "\n",
    "def check_guess(guess, truth):\n",
    "    if len(guess) != 5:\n",
    "        print('Wrong length of word!')\n",
    "        return -1\n",
    "    if not guess in w5_list:\n",
    "        print('Not a word!')\n",
    "        return -1\n",
    "    if guess == truth:\n",
    "        for l in guess:\n",
    "            letter_set['green'].add(l)\n",
    "        print(colored(guess, 'green'))\n",
    "        print('Congrats!')\n",
    "        return 1\n",
    "    prt = ''\n",
    "    for i in range(5):\n",
    "        if guess[i] == truth[i]:\n",
    "            prt += colored(guess[i], 'green')\n",
    "            letter_set['green'].add(guess[i])\n",
    "        elif guess[i] in [truth[j] for j in range(5) if guess[j] != truth[j]]:\n",
    "            prt += colored(guess[i], 'yellow')\n",
    "            letter_set['yellow'].add(guess[i])\n",
    "        else:\n",
    "            prt += colored(guess[i], 'white')\n",
    "            letter_set['white'].add(guess[i])\n",
    "    print(prt)\n",
    "    return 0\n",
    "\n",
    "def letter_color(l):\n",
    "    if l in letter_set['green']:\n",
    "        return 'green'\n",
    "    elif l in letter_set['yellow']:\n",
    "        return 'yellow'\n",
    "    elif l in letter_set['white']:\n",
    "        return 'white'\n",
    "    else:\n",
    "        return 'grey'\n",
    "\n",
    "def print_keyboard():\n",
    "    kb1 = 'qwertyuiop'\n",
    "    kb2 = 'asdfghjkl'\n",
    "    kb3 = 'zxcvbnm'\n",
    "    prt = ''\n",
    "    for l in kb1:\n",
    "        prt += colored(l, letter_color(l)) + ' '\n",
    "    prt += '\\n '\n",
    "    for l in kb2:\n",
    "        prt += colored(l, letter_color(l)) + ' '\n",
    "    prt += '\\n  '\n",
    "    for l in kb3:\n",
    "        prt += colored(l, letter_color(l)) + ' '\n",
    "    print(prt, flush = True)\n",
    "\n",
    "def game():\n",
    "    truth = target()\n",
    "    cnt = 0\n",
    "    global letter_set\n",
    "    letter_set = {'green': set(), 'yellow': set(), 'white': set()}\n",
    "    print_keyboard()\n",
    "    guess = input()\n",
    "    while cnt <= 5:\n",
    "        result = check_guess(guess, truth)\n",
    "        print_keyboard()\n",
    "        if result == 1:\n",
    "            return\n",
    "        elif result == -1:\n",
    "            guess = input()\n",
    "        else:\n",
    "            cnt += 1\n",
    "            if cnt != 6:\n",
    "                guess = input()\n",
    "    print('Uh-oh! The answer is ' + colored(truth, 'red') +'.')\n",
    "    return"
   ]
  },
  {
   "cell_type": "code",
   "execution_count": 4,
   "metadata": {},
   "outputs": [
    {
     "name": "stdout",
     "output_type": "stream",
     "text": [
      "\u001b[30mq\u001b[0m \u001b[30mw\u001b[0m \u001b[30me\u001b[0m \u001b[30mr\u001b[0m \u001b[30mt\u001b[0m \u001b[30my\u001b[0m \u001b[30mu\u001b[0m \u001b[30mi\u001b[0m \u001b[30mo\u001b[0m \u001b[30mp\u001b[0m \n",
      " \u001b[30ma\u001b[0m \u001b[30ms\u001b[0m \u001b[30md\u001b[0m \u001b[30mf\u001b[0m \u001b[30mg\u001b[0m \u001b[30mh\u001b[0m \u001b[30mj\u001b[0m \u001b[30mk\u001b[0m \u001b[30ml\u001b[0m \n",
      "  \u001b[30mz\u001b[0m \u001b[30mx\u001b[0m \u001b[30mc\u001b[0m \u001b[30mv\u001b[0m \u001b[30mb\u001b[0m \u001b[30mn\u001b[0m \u001b[30mm\u001b[0m \n",
      "heart\n",
      "\u001b[37mh\u001b[0m\u001b[32me\u001b[0m\u001b[37ma\u001b[0m\u001b[32mr\u001b[0m\u001b[37mt\u001b[0m\n",
      "\u001b[30mq\u001b[0m \u001b[30mw\u001b[0m \u001b[32me\u001b[0m \u001b[32mr\u001b[0m \u001b[37mt\u001b[0m \u001b[30my\u001b[0m \u001b[30mu\u001b[0m \u001b[30mi\u001b[0m \u001b[30mo\u001b[0m \u001b[30mp\u001b[0m \n",
      " \u001b[37ma\u001b[0m \u001b[30ms\u001b[0m \u001b[30md\u001b[0m \u001b[30mf\u001b[0m \u001b[30mg\u001b[0m \u001b[37mh\u001b[0m \u001b[30mj\u001b[0m \u001b[30mk\u001b[0m \u001b[30ml\u001b[0m \n",
      "  \u001b[30mz\u001b[0m \u001b[30mx\u001b[0m \u001b[30mc\u001b[0m \u001b[30mv\u001b[0m \u001b[30mb\u001b[0m \u001b[30mn\u001b[0m \u001b[30mm\u001b[0m \n",
      "jeery\n",
      "\u001b[37mj\u001b[0m\u001b[32me\u001b[0m\u001b[37me\u001b[0m\u001b[32mr\u001b[0m\u001b[37my\u001b[0m\n",
      "\u001b[30mq\u001b[0m \u001b[30mw\u001b[0m \u001b[32me\u001b[0m \u001b[32mr\u001b[0m \u001b[37mt\u001b[0m \u001b[37my\u001b[0m \u001b[30mu\u001b[0m \u001b[30mi\u001b[0m \u001b[30mo\u001b[0m \u001b[30mp\u001b[0m \n",
      " \u001b[37ma\u001b[0m \u001b[30ms\u001b[0m \u001b[30md\u001b[0m \u001b[30mf\u001b[0m \u001b[30mg\u001b[0m \u001b[37mh\u001b[0m \u001b[37mj\u001b[0m \u001b[30mk\u001b[0m \u001b[30ml\u001b[0m \n",
      "  \u001b[30mz\u001b[0m \u001b[30mx\u001b[0m \u001b[30mc\u001b[0m \u001b[30mv\u001b[0m \u001b[30mb\u001b[0m \u001b[30mn\u001b[0m \u001b[30mm\u001b[0m \n",
      "weird\n",
      "\u001b[37mw\u001b[0m\u001b[32me\u001b[0m\u001b[37mi\u001b[0m\u001b[32mr\u001b[0m\u001b[33md\u001b[0m\n",
      "\u001b[30mq\u001b[0m \u001b[37mw\u001b[0m \u001b[32me\u001b[0m \u001b[32mr\u001b[0m \u001b[37mt\u001b[0m \u001b[37my\u001b[0m \u001b[30mu\u001b[0m \u001b[37mi\u001b[0m \u001b[30mo\u001b[0m \u001b[30mp\u001b[0m \n",
      " \u001b[37ma\u001b[0m \u001b[30ms\u001b[0m \u001b[33md\u001b[0m \u001b[30mf\u001b[0m \u001b[30mg\u001b[0m \u001b[37mh\u001b[0m \u001b[37mj\u001b[0m \u001b[30mk\u001b[0m \u001b[30ml\u001b[0m \n",
      "  \u001b[30mz\u001b[0m \u001b[30mx\u001b[0m \u001b[30mc\u001b[0m \u001b[30mv\u001b[0m \u001b[30mb\u001b[0m \u001b[30mn\u001b[0m \u001b[30mm\u001b[0m \n",
      "pedro\n",
      "\u001b[32mpedro\u001b[0m\n",
      "Congrats!\n",
      "\u001b[30mq\u001b[0m \u001b[37mw\u001b[0m \u001b[32me\u001b[0m \u001b[32mr\u001b[0m \u001b[37mt\u001b[0m \u001b[37my\u001b[0m \u001b[30mu\u001b[0m \u001b[37mi\u001b[0m \u001b[32mo\u001b[0m \u001b[32mp\u001b[0m \n",
      " \u001b[37ma\u001b[0m \u001b[30ms\u001b[0m \u001b[32md\u001b[0m \u001b[30mf\u001b[0m \u001b[30mg\u001b[0m \u001b[37mh\u001b[0m \u001b[37mj\u001b[0m \u001b[30mk\u001b[0m \u001b[30ml\u001b[0m \n",
      "  \u001b[30mz\u001b[0m \u001b[30mx\u001b[0m \u001b[30mc\u001b[0m \u001b[30mv\u001b[0m \u001b[30mb\u001b[0m \u001b[30mn\u001b[0m \u001b[30mm\u001b[0m \n"
     ]
    }
   ],
   "source": [
    "game()"
   ]
  },
  {
   "cell_type": "code",
   "execution_count": null,
   "metadata": {
    "collapsed": true
   },
   "outputs": [],
   "source": []
  }
 ],
 "metadata": {
  "kernelspec": {
   "display_name": "Python 3",
   "language": "python",
   "name": "python3"
  },
  "language_info": {
   "codemirror_mode": {
    "name": "ipython",
    "version": 3
   },
   "file_extension": ".py",
   "mimetype": "text/x-python",
   "name": "python",
   "nbconvert_exporter": "python",
   "pygments_lexer": "ipython3",
   "version": "3.6.2"
  }
 },
 "nbformat": 4,
 "nbformat_minor": 2
}
